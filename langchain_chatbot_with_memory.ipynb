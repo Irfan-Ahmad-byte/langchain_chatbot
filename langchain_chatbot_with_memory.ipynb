{
 "cells": [
  {
   "cell_type": "markdown",
   "metadata": {},
   "source": [
    "# A simple implementation of AI chatbot with Langchain-OpenAI"
   ]
  },
  {
   "cell_type": "markdown",
   "metadata": {},
   "source": [
    "### Loading model"
   ]
  },
  {
   "cell_type": "code",
   "execution_count": 1,
   "metadata": {},
   "outputs": [],
   "source": [
    "# Import the required modules\n",
    "import os\n",
    "import openai\n",
    "from dotenv import load_dotenv, find_dotenv\n",
    "from langchain.schema import AIMessage, SystemMessage, HumanMessage\n",
    "from langchain.chat_models import ChatOpenAI"
   ]
  },
  {
   "cell_type": "code",
   "execution_count": 3,
   "metadata": {},
   "outputs": [
    {
     "data": {
      "text/plain": [
       "True"
      ]
     },
     "execution_count": 3,
     "metadata": {},
     "output_type": "execute_result"
    }
   ],
   "source": [
    "# load .env file\n",
    "load_dotenv(find_dotenv())"
   ]
  },
  {
   "cell_type": "code",
   "execution_count": 5,
   "metadata": {},
   "outputs": [],
   "source": [
    "# get open ai key and config\n",
    "\n",
    "OPENAI_API_KEY = os.getenv(\"OPENAI_API_KEY\")\n",
    "\n",
    "openai.api_key = OPENAI_API_KEY"
   ]
  },
  {
   "cell_type": "code",
   "execution_count": 6,
   "metadata": {},
   "outputs": [],
   "source": [
    "# define the chat model\n",
    "\n",
    "chat_model = ChatOpenAI()"
   ]
  },
  {
   "cell_type": "markdown",
   "metadata": {},
   "source": [
    "### setting up chatbot and asking\n",
    "We define a system message for the chatbot and then a human message.\n",
    "\n",
    "- System message: tot ell the chatbot its role\n",
    "- human message: as query"
   ]
  },
  {
   "cell_type": "code",
   "execution_count": 7,
   "metadata": {},
   "outputs": [],
   "source": [
    "messages = [\n",
    "    SystemMessage(content='You are an expert American historian with immense knowledge about history of America.'),\n",
    "    HumanMessage(content='Who was the first president of America?'),\n",
    "]"
   ]
  },
  {
   "cell_type": "markdown",
   "metadata": {},
   "source": [
    "Let's ask the chat model"
   ]
  },
  {
   "cell_type": "code",
   "execution_count": 8,
   "metadata": {},
   "outputs": [
    {
     "data": {
      "text/plain": [
       "AIMessage(content='The first president of America was George Washington. He served as the president from 1789 to 1797.')"
      ]
     },
     "execution_count": 8,
     "metadata": {},
     "output_type": "execute_result"
    }
   ],
   "source": [
    "chat_model(messages=messages)"
   ]
  },
  {
   "cell_type": "markdown",
   "metadata": {},
   "source": [
    "Let's filter the answer"
   ]
  },
  {
   "cell_type": "code",
   "execution_count": 10,
   "metadata": {},
   "outputs": [
    {
     "data": {
      "text/plain": [
       "'The first president of the United States was George Washington. He served as the president from 1789 to 1797. Washington was a key figure in the American Revolution and played a crucial role in the formation of the United States as a nation. He is often referred to as the \"Father of His Country\" due to his leadership and contributions to the early years of the United States.'"
      ]
     },
     "execution_count": 10,
     "metadata": {},
     "output_type": "execute_result"
    }
   ],
   "source": [
    "answer = chat_model(messages=messages).content\n",
    "\n",
    "answer"
   ]
  },
  {
   "cell_type": "markdown",
   "metadata": {},
   "source": [
    "Great, now the answer is stored in a variable."
   ]
  },
  {
   "cell_type": "markdown",
   "metadata": {},
   "source": [
    "Let's see it it remembers our first question and replies accordingly (have memory)!"
   ]
  },
  {
   "cell_type": "code",
   "execution_count": 11,
   "metadata": {},
   "outputs": [
    {
     "data": {
      "text/plain": [
       "'George Washington became the first president of the United States through a series of events and decisions made during the American Revolution and the establishment of a new government.\\n\\n1. Leadership during the Revolutionary War: Washington played a crucial role as the commander-in-chief of the Continental Army during the American Revolution. His military expertise, strategic decision-making, and ability to inspire and unite troops earned him respect and recognition among his peers and the public.\\n\\n2. Role in the Constitutional Convention: After the Revolutionary War, Washington attended the Constitutional Convention held in Philadelphia in 1787. His presence and support lent credibility to the proceedings, and he was unanimously elected as the president of the convention. His leadership helped shape the new U.S. Constitution, which established the framework for the federal government.\\n\\n3. Unanimous election as President: When the new Constitution was ratified and the United States was ready to elect its first president, Washington was widely regarded as the most suitable candidate due to his military leadership, integrity, and commitment to the principles of the Constitution. In 1788, he was unanimously elected by the Electoral College as the first president of the United States.\\n\\n4. Inauguration and establishment of the presidency: On April 30, 1789, Washington was inaugurated as the first president of the United States in New York City. He played a crucial role in establishing the precedents and norms of the presidency, including the two-term limit, respect for the office, and the exercise of executive authority.\\n\\nOverall, George Washington became the first president through his military leadership during the Revolutionary War, his active participation in the creation of the Constitution, and his widespread admiration and support among the American public and political leaders.'"
      ]
     },
     "execution_count": 11,
     "metadata": {},
     "output_type": "execute_result"
    }
   ],
   "source": [
    "chat_model(messages=[HumanMessage(content='How he became the first president?')]).content"
   ]
  },
  {
   "cell_type": "code",
   "execution_count": 14,
   "metadata": {},
   "outputs": [
    {
     "data": {
      "text/plain": [
       "'I\\'m sorry, but without context or information about who \"him\" refers to, I cannot provide an answer to your question. Could you please provide more details or clarify your question?'"
      ]
     },
     "execution_count": 14,
     "metadata": {},
     "output_type": "execute_result"
    }
   ],
   "source": [
    "chat_model(messages=[HumanMessage(content='Who became next president after him?')]).content"
   ]
  },
  {
   "cell_type": "markdown",
   "metadata": {},
   "source": [
    "First it answered accordingly, but now it does not recognize who I am talking about.\n",
    "\n",
    "Shall play with memory in another notebook."
   ]
  },
  {
   "cell_type": "markdown",
   "metadata": {},
   "source": [
    "#### Another approach to system role"
   ]
  },
  {
   "cell_type": "code",
   "execution_count": 24,
   "metadata": {},
   "outputs": [],
   "source": [
    "messages = [\n",
    "    {'role': 'system', 'content': 'You are a python expert with immense knowledge about python programming\\\n",
    "     and a teacher who can explain python concepts to anyone at any level of age or class.'},\n",
    "\n",
    "     {'role': 'human', 'content': 'I am a 5th grade student. Please explain me with an example\\\n",
    "      that what is a linked list?'},\n",
    "]"
   ]
  },
  {
   "cell_type": "code",
   "execution_count": 26,
   "metadata": {},
   "outputs": [
    {
     "data": {
      "text/plain": [
       "'uncomment the following line of code, it will give an error, this approach is applicablke with\\ntemplates'"
      ]
     },
     "execution_count": 26,
     "metadata": {},
     "output_type": "execute_result"
    }
   ],
   "source": [
    "'''uncomment the following line of code, it will give an error, this approach is applicablke with\n",
    "templates'''\n",
    "\n",
    "# chat_model(messages=messages).content"
   ]
  },
  {
   "cell_type": "code",
   "execution_count": null,
   "metadata": {},
   "outputs": [],
   "source": []
  }
 ],
 "metadata": {
  "kernelspec": {
   "display_name": "venv",
   "language": "python",
   "name": "python3"
  },
  "language_info": {
   "codemirror_mode": {
    "name": "ipython",
    "version": 3
   },
   "file_extension": ".py",
   "mimetype": "text/x-python",
   "name": "python",
   "nbconvert_exporter": "python",
   "pygments_lexer": "ipython3",
   "version": "3.9.7"
  },
  "orig_nbformat": 4
 },
 "nbformat": 4,
 "nbformat_minor": 2
}
