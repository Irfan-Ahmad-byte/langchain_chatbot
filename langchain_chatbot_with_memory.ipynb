{
 "cells": [
  {
   "cell_type": "markdown",
   "metadata": {},
   "source": [
    "# A simple implementation of AI chatbot with Langchain-OpenAI wih Memoy"
   ]
  },
  {
   "cell_type": "markdown",
   "metadata": {},
   "source": [
    "### Loading model"
   ]
  },
  {
   "cell_type": "code",
   "execution_count": 1,
   "metadata": {},
   "outputs": [],
   "source": [
    "# Import the required modules\n",
    "import os\n",
    "import openai\n",
    "from dotenv import load_dotenv, find_dotenv\n",
    "from langchain.schema import AIMessage, SystemMessage, HumanMessage\n",
    "from langchain.chat_models import ChatOpenAI"
   ]
  },
  {
   "cell_type": "code",
   "execution_count": 2,
   "metadata": {},
   "outputs": [
    {
     "data": {
      "text/plain": [
       "True"
      ]
     },
     "execution_count": 2,
     "metadata": {},
     "output_type": "execute_result"
    }
   ],
   "source": [
    "# load .env file\n",
    "load_dotenv(find_dotenv())"
   ]
  },
  {
   "cell_type": "code",
   "execution_count": 3,
   "metadata": {},
   "outputs": [],
   "source": [
    "# get open ai key and config\n",
    "\n",
    "OPENAI_API_KEY = os.getenv(\"OPENAI_API_KEY\")\n",
    "\n",
    "openai.api_key = OPENAI_API_KEY"
   ]
  },
  {
   "cell_type": "code",
   "execution_count": 4,
   "metadata": {},
   "outputs": [],
   "source": [
    "# define the chat model\n",
    "\n",
    "chat_model = ChatOpenAI()"
   ]
  },
  {
   "cell_type": "markdown",
   "metadata": {},
   "source": [
    "### setting up chatbot and asking\n",
    "We define a system message for the chatbot and then a human message.\n",
    "\n",
    "- System message: tot ell the chatbot its role\n",
    "- human message: as query"
   ]
  },
  {
   "cell_type": "code",
   "execution_count": 5,
   "metadata": {},
   "outputs": [],
   "source": [
    "messages = [\n",
    "    SystemMessage(content='You are an expert American historian with immense knowledge about history of America.'),\n",
    "    HumanMessage(content='Who was the first president of America?'),\n",
    "]"
   ]
  },
  {
   "cell_type": "markdown",
   "metadata": {},
   "source": [
    "Let's ask the chat model"
   ]
  },
  {
   "cell_type": "code",
   "execution_count": 6,
   "metadata": {},
   "outputs": [
    {
     "data": {
      "text/plain": [
       "AIMessage(content='The first president of America was George Washington. He served as the president from 1789 to 1797. Washington played a crucial role in the American Revolutionary War and was instrumental in the creation of the United States Constitution. He is widely regarded as one of the most influential and respected figures in American history.')"
      ]
     },
     "execution_count": 6,
     "metadata": {},
     "output_type": "execute_result"
    }
   ],
   "source": [
    "chat_model(messages=messages)"
   ]
  },
  {
   "cell_type": "markdown",
   "metadata": {},
   "source": [
    "Let's filter the answer"
   ]
  },
  {
   "cell_type": "code",
   "execution_count": 7,
   "metadata": {},
   "outputs": [
    {
     "data": {
      "text/plain": [
       "'The first president of America was George Washington. He served two terms as president from 1789 to 1797. Washington played a crucial role in establishing the foundation of the United States and was widely admired for his leadership during the American Revolutionary War. He is often referred to as the \"Father of His Country\" and his presidency set many important precedents for future leaders.'"
      ]
     },
     "execution_count": 7,
     "metadata": {},
     "output_type": "execute_result"
    }
   ],
   "source": [
    "answer = chat_model(messages=messages).content\n",
    "\n",
    "answer"
   ]
  },
  {
   "cell_type": "markdown",
   "metadata": {},
   "source": [
    "Great, now the answer is stored in a variable."
   ]
  },
  {
   "cell_type": "markdown",
   "metadata": {},
   "source": [
    "Let's see it it remembers our first question and replies accordingly (have memory)!"
   ]
  },
  {
   "cell_type": "code",
   "execution_count": 8,
   "metadata": {},
   "outputs": [
    {
     "data": {
      "text/plain": [
       "\"He became the first president through a combination of his leadership skills, political experience, and the support of the American people. George Washington, a military hero and leader of the Continental Army during the American Revolutionary War, was unanimously elected as the first president of the United States by the delegates of the Constitutional Convention in 1789. He was widely respected for his integrity, courage, and commitment to the ideals of the newly formed nation. Washington's presidency set the precedent for future presidents and established many of the traditions and practices that still shape the office today.\""
      ]
     },
     "execution_count": 8,
     "metadata": {},
     "output_type": "execute_result"
    }
   ],
   "source": [
    "chat_model(messages=[HumanMessage(content='How he became the first president?')]).content"
   ]
  },
  {
   "cell_type": "code",
   "execution_count": 9,
   "metadata": {},
   "outputs": [
    {
     "data": {
      "text/plain": [
       "'I\\'m sorry, but I need more information to provide an accurate answer. Could you please specify who \"him\" refers to?'"
      ]
     },
     "execution_count": 9,
     "metadata": {},
     "output_type": "execute_result"
    }
   ],
   "source": [
    "chat_model(messages=[HumanMessage(content='Who became next president after him?')]).content"
   ]
  },
  {
   "cell_type": "markdown",
   "metadata": {},
   "source": [
    "First it answered accordingly, but now it does not recognize who I am talking about.\n",
    "\n",
    "Shall play with memory in another notebook."
   ]
  },
  {
   "cell_type": "markdown",
   "metadata": {},
   "source": [
    "Now enclose this chat model inside the ConversationChain, which has a built-in memory feature."
   ]
  },
  {
   "cell_type": "code",
   "execution_count": 10,
   "metadata": {},
   "outputs": [],
   "source": [
    "#### Model with memory\n",
    "\n",
    "from langchain.chains import ConversationChain"
   ]
  },
  {
   "cell_type": "code",
   "execution_count": 11,
   "metadata": {},
   "outputs": [],
   "source": [
    "conversation_model = ConversationChain(llm=chat_model) # llm = language learning model, we're using our chat model"
   ]
  },
  {
   "cell_type": "markdown",
   "metadata": {},
   "source": [
    "Let's ask!"
   ]
  },
  {
   "cell_type": "code",
   "execution_count": 12,
   "metadata": {},
   "outputs": [
    {
     "data": {
      "text/plain": [
       "'The first president of America was George Washington. He served as the president from 1789 to 1797. Washington was a key figure in the American Revolution and is often referred to as the \"Father of His Country.\" He played a crucial role in the formation of the United States and set many precedents for future presidents.'"
      ]
     },
     "execution_count": 12,
     "metadata": {},
     "output_type": "execute_result"
    }
   ],
   "source": [
    "conversation_model.run('Who was the first president of America?')"
   ]
  },
  {
   "cell_type": "code",
   "execution_count": 13,
   "metadata": {},
   "outputs": [
    {
     "data": {
      "text/plain": [
       "\"George Washington became the first president of America through a process established by the newly formed United States. In 1787, a Constitutional Convention was held to create a framework for the government. The delegates decided to establish a presidency as the executive branch of the government.\\n\\nWashington was highly respected and admired by his fellow delegates due to his leadership during the American Revolution. He was unanimously elected as the president of the Constitutional Convention, which further solidified his reputation and support.\\n\\nAfter the Constitution was ratified by the states in 1788, an election was held in 1789 to choose the first president. There were no political parties at the time, and Washington was the natural choice due to his prominence and popularity. He received all 69 electoral votes and was inaugurated as the first president on April 30, 1789, in New York City.\\n\\nWashington's presidency was marked by his efforts to establish a strong central government, maintain neutrality in foreign affairs, and uphold the principles of the Constitution. His leadership and statesmanship laid the foundation for the presidency and set many precedents that guided future presidents.\""
      ]
     },
     "execution_count": 13,
     "metadata": {},
     "output_type": "execute_result"
    }
   ],
   "source": [
    "conversation_model.run('How he became the first president?')"
   ]
  },
  {
   "cell_type": "code",
   "execution_count": 14,
   "metadata": {},
   "outputs": [
    {
     "data": {
      "text/plain": [
       "\"The next president after George Washington was John Adams. Adams served as the second president of the United States from 1797 to 1801. He was a member of the Federalist Party and played a key role in the early years of the country's development. Adams faced many challenges during his presidency, including strained relations with France and the passage of the Alien and Sedition Acts. Despite these challenges, Adams made significant contributions to the young nation and helped shape its future.\""
      ]
     },
     "execution_count": 14,
     "metadata": {},
     "output_type": "execute_result"
    }
   ],
   "source": [
    "conversation_model.run('Who became the next president after him?')"
   ]
  },
  {
   "cell_type": "code",
   "execution_count": 15,
   "metadata": {},
   "outputs": [
    {
     "data": {
      "text/plain": [
       "\"As an AI, I don't have personal opinions or biases. Both George Washington and John Adams made significant contributions to the United States during their presidencies. Washington's leadership during the Revolutionary War and his role in establishing the presidency set important precedents for future leaders. Adams, on the other hand, faced unique challenges during his presidency and played a key role in shaping the country's early development. It is up to individuals to determine which president they believe was better based on their own criteria and perspectives.\""
      ]
     },
     "execution_count": 15,
     "metadata": {},
     "output_type": "execute_result"
    }
   ],
   "source": [
    "conversation_model.run('Was Adams better than Washington?')"
   ]
  },
  {
   "cell_type": "code",
   "execution_count": 16,
   "metadata": {},
   "outputs": [
    {
     "data": {
      "text/plain": [
       "\"After John Adams, the third president of the United States was Thomas Jefferson. Jefferson served as president from 1801 to 1809. He was a key figure in the early development of the country and played a significant role in expanding its territory through the Louisiana Purchase. Jefferson's presidency was marked by his emphasis on agrarianism and limited government. He also championed individual liberty and religious freedom during his time in office.\""
      ]
     },
     "execution_count": 16,
     "metadata": {},
     "output_type": "execute_result"
    }
   ],
   "source": [
    "conversation_model.run('Who followed the two?')"
   ]
  },
  {
   "cell_type": "code",
   "execution_count": 17,
   "metadata": {},
   "outputs": [
    {
     "data": {
      "text/plain": [
       "'The ten presidents after George Washington, John Adams, and Thomas Jefferson, in chronological order, were:\\n\\n1. James Madison (1809-1817)\\n2. James Monroe (1817-1825)\\n3. John Quincy Adams (1825-1829)\\n4. Andrew Jackson (1829-1837)\\n5. Martin Van Buren (1837-1841)\\n6. William Henry Harrison (1841)\\n7. John Tyler (1841-1845)\\n8. James K. Polk (1845-1849)\\n9. Zachary Taylor (1849-1850)\\n10. Millard Fillmore (1850-1853)'"
      ]
     },
     "execution_count": 17,
     "metadata": {},
     "output_type": "execute_result"
    }
   ],
   "source": [
    "conversation_model.run('Give names of 10 presidents after them?')"
   ]
  },
  {
   "cell_type": "markdown",
   "metadata": {},
   "source": [
    "Here we see that it follows the exact conversation flow, it has a memory and remembers my old question."
   ]
  },
  {
   "cell_type": "markdown",
   "metadata": {},
   "source": []
  }
 ],
 "metadata": {
  "kernelspec": {
   "display_name": "venv",
   "language": "python",
   "name": "python3"
  },
  "language_info": {
   "codemirror_mode": {
    "name": "ipython",
    "version": 3
   },
   "file_extension": ".py",
   "mimetype": "text/x-python",
   "name": "python",
   "nbconvert_exporter": "python",
   "pygments_lexer": "ipython3",
   "version": "3.9.7"
  },
  "orig_nbformat": 4
 },
 "nbformat": 4,
 "nbformat_minor": 2
}
