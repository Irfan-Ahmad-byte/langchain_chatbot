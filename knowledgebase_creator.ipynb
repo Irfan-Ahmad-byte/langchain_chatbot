{
 "cells": [
  {
   "cell_type": "markdown",
   "metadata": {},
   "source": [
    "# Knowledgebase Creator"
   ]
  },
  {
   "cell_type": "markdown",
   "metadata": {},
   "source": [
    "This is a complete repo which hosts source code for Knowledgebase creator. This is a web application which can be used to create knowledgebase with any supported formats of data (html, docx, pdf, json, xml). The application is built using Django and FastAPI frameworks. The application can also be run with docker."
   ]
  },
  {
   "cell_type": "markdown",
   "metadata": {},
   "source": [
    "[Knowledgebase creator](https://github.com/irfan-ahmad-byte/knowledgebase_creator)"
   ]
  }
 ],
 "metadata": {
  "kernelspec": {
   "display_name": "venv",
   "language": "python",
   "name": "python3"
  },
  "language_info": {
   "codemirror_mode": {
    "name": "ipython",
    "version": 3
   },
   "file_extension": ".py",
   "mimetype": "text/x-python",
   "name": "python",
   "nbconvert_exporter": "python",
   "pygments_lexer": "ipython3",
   "version": "3.9.7"
  },
  "orig_nbformat": 4
 },
 "nbformat": 4,
 "nbformat_minor": 2
}
