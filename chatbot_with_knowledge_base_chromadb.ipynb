{
 "cells": [
  {
   "cell_type": "markdown",
   "metadata": {},
   "source": [
    "# Build a chatbot which uses its own knowledge base from ChromaDB with Langchain"
   ]
  },
  {
   "cell_type": "markdown",
   "metadata": {},
   "source": [
    "In this notebook I'm going to use our own knowledge base to build QA chatbot, to get answer from our own knowledge base."
   ]
  },
  {
   "cell_type": "markdown",
   "metadata": {},
   "source": [
    "### The function to ingest documents from a directory"
   ]
  },
  {
   "cell_type": "code",
   "execution_count": 1,
   "metadata": {},
   "outputs": [],
   "source": [
    "#import some accessory modules from langchain\n",
    "from dotenv import load_dotenv, find_dotenv\n",
    "from langchain.embeddings import OpenAIEmbeddings\n",
    "\n",
    "\n",
    "import argparse\n",
    "from typing import Union, Optional\n",
    "import os"
   ]
  },
  {
   "cell_type": "markdown",
   "metadata": {},
   "source": [
    "### Implementing chatbot"
   ]
  },
  {
   "cell_type": "code",
   "execution_count": 2,
   "metadata": {},
   "outputs": [],
   "source": [
    "\n",
    "from langchain.schema import AIMessage, SystemMessage, HumanMessage\n",
    "from langchain.chat_models import ChatOpenAI"
   ]
  },
  {
   "cell_type": "code",
   "execution_count": 3,
   "metadata": {},
   "outputs": [],
   "source": [
    "\n",
    "from langchain.chat_models import ChatOpenAI\n",
    "from langchain.callbacks.streaming_stdout import StreamingStdOutCallbackHandler\n",
    "from langchain.chains import RetrievalQA, LLMChain, ConversationChain\n",
    "from langchain.embeddings.openai import OpenAIEmbeddings\n",
    "from langchain.memory import ConversationBufferMemory\n",
    "from langchain.prompts import PromptTemplate\n",
    "from langchain.vectorstores import Chroma"
   ]
  },
  {
   "cell_type": "code",
   "execution_count": 4,
   "metadata": {},
   "outputs": [],
   "source": [
    "# load the .env file\n",
    "load_dotenv(find_dotenv())\n",
    "open_ai_api_key = os.getenv('OPENAI_API_KEY')"
   ]
  },
  {
   "cell_type": "code",
   "execution_count": 5,
   "metadata": {},
   "outputs": [],
   "source": [
    "embeddings = OpenAIEmbeddings(openai_api_key=open_ai_api_key)"
   ]
  },
  {
   "cell_type": "code",
   "execution_count": 6,
   "metadata": {},
   "outputs": [],
   "source": [
    "#  setup sqlite3 for linux based OS, for windows it's not needed, comment these lines for windows\n",
    "__import__('pysqlite3')\n",
    "import sys\n",
    "sys.modules['sqlite3'] = sys.modules.pop('pysqlite3')\n",
    "\n",
    "# load the knowledgebase\n",
    "vector_store = Chroma(persist_directory='db', embedding_function=embeddings)\n"
   ]
  },
  {
   "cell_type": "code",
   "execution_count": 7,
   "metadata": {},
   "outputs": [],
   "source": [
    "# retrieve vector store\n",
    "\n",
    "retriever = vector_store.as_retriever()"
   ]
  },
  {
   "cell_type": "code",
   "execution_count": 8,
   "metadata": {},
   "outputs": [],
   "source": [
    "prompt_template = '''\n",
    "You are a Bioinformatics expert with immense knowledge and experience in the field.\n",
    "Answer my questions based on your knowledge and our older conversation. Do not make up answers.\n",
    "If you do not know the answer to a question, just say \"I don't know\".\n",
    "\n",
    "{context}\n",
    "\n",
    "question: {question}\n",
    "'''\n",
    "\n",
    "PROMPT = PromptTemplate(\n",
    "            template=prompt_template, input_variables=[\"context\", \"question\"]\n",
    "        )"
   ]
  },
  {
   "cell_type": "code",
   "execution_count": 9,
   "metadata": {},
   "outputs": [],
   "source": [
    "chain_type_kwargs = {\"prompt\": PROMPT}"
   ]
  },
  {
   "cell_type": "code",
   "execution_count": 10,
   "metadata": {},
   "outputs": [],
   "source": [
    "# define the chat model\n",
    "\n",
    "chat_model = ChatOpenAI(\n",
    "        model='gpt-4-0314',\n",
    "        temperature=0.7,\n",
    "        model_kwargs = {'top_p':0.5,\n",
    "        'presence_penalty':0,\n",
    "        'frequency_penalty':0,},\n",
    "        n=1,\n",
    "        streaming=True,\n",
    "        callbacks=[StreamingStdOutCallbackHandler()],\n",
    "    )"
   ]
  },
  {
   "cell_type": "code",
   "execution_count": 11,
   "metadata": {},
   "outputs": [],
   "source": [
    "memory = ConversationBufferMemory(\n",
    "                                    memory_key=\"chat_history\",\n",
    "                                    max_len=50,\n",
    "                                    return_messages=True,\n",
    "                                )"
   ]
  },
  {
   "cell_type": "code",
   "execution_count": 12,
   "metadata": {},
   "outputs": [],
   "source": [
    "chain = RetrievalQA.from_chain_type(\n",
    "                                llm=chat_model,\n",
    "                                chain_type=\"stuff\",\n",
    "                                retriever=retriever,\n",
    "                                chain_type_kwargs=chain_type_kwargs,\n",
    "                                memory=memory,\n",
    "                                callbacks = [StreamingStdOutCallbackHandler()],\n",
    "                            )"
   ]
  },
  {
   "cell_type": "code",
   "execution_count": 13,
   "metadata": {},
   "outputs": [],
   "source": [
    "q = 'What are some famous algorithms in bioinformatics? give me references too.'"
   ]
  },
  {
   "cell_type": "code",
   "execution_count": 14,
   "metadata": {},
   "outputs": [
    {
     "name": "stdout",
     "output_type": "stream",
     "text": [
      "Some famous algorithms in bioinformatics include:\n",
      "\n",
      "1. Needleman-Wunsch Algorithm: This algorithm is used for global sequence alignment, which finds the best alignment between two sequences by maximizing the similarity score. Reference: Needleman, S. B., & Wunsch, C. D. (1970). A general method applicable to the search for similarities in the amino acid sequence of two proteins. Journal of Molecular Biology, 48(3), 443-453.\n",
      "\n",
      "2. Smith-Waterman Algorithm: This algorithm is used for local sequence alignment, which finds the most similar subsequences between two sequences. Reference: Smith, T. F., & Waterman, M. S. (1981). Identification of common molecular subsequences. Journal of Molecular Biology, 147(1), 195-197.\n",
      "\n",
      "3. BLAST (Basic Local Alignment Search Tool): This algorithm is used for searching sequence databases for local alignments with a query sequence. Reference: Altschul, S. F., Gish, W., Miller, W., Myers, E. W., & Lipman, D. J. (1990). Basic local alignment search tool. Journal of Molecular Biology, 215(3), 403-410.\n",
      "\n",
      "4. ClustalW: This algorithm is used for multiple sequence alignment, which aligns multiple sequences simultaneously. Reference: Thompson, J. D., Higgins, D. G., & Gibson, T. J. (1994). CLUSTAL W: improving the sensitivity of progressive multiple sequence alignment through sequence weighting, position-specific gap penalties and weight matrix choice. Nucleic Acids Research, 22(22), 4673-4680.\n",
      "\n",
      "5. Hidden Markov Models (HMMs): These models are used for various tasks in bioinformatics, such as gene prediction, protein family modeling, and sequence alignment. Reference: Eddy, S. R. (2004). What is a hidden Markov model? Nature Biotechnology, 22(10), 1315-1316.\n",
      "\n",
      "6. Fast Fourier Transform (FFT) based algorithms for sequence comparison: These algorithms use FFT to speed up the process of sequence comparison. Reference: Vinga, S., & Almeida, J. (2003). Alignment-free sequence comparison-a review. Bioinformatics, 19(4), 513-523.\n",
      "\n",
      "7. Phylogenetic tree construction algorithms: These algorithms are used to infer the evolutionary relationships between different species or genes. Some popular methods include Neighbor-Joining, Maximum Likelihood, and Bayesian Inference. Reference: Felsenstein, J. (2004). Inferring Phylogenies. Sinauer Associates, Sunderland, MA."
     ]
    }
   ],
   "source": [
    "answer = chain.run(q)"
   ]
  },
  {
   "cell_type": "code",
   "execution_count": 15,
   "metadata": {},
   "outputs": [],
   "source": [
    "import pprint"
   ]
  },
  {
   "cell_type": "code",
   "execution_count": 16,
   "metadata": {},
   "outputs": [
    {
     "name": "stdout",
     "output_type": "stream",
     "text": [
      "('Some famous algorithms in bioinformatics include:\\n'\n",
      " '\\n'\n",
      " '1. Needleman-Wunsch Algorithm: This algorithm is used for global sequence '\n",
      " 'alignment, which finds the best alignment between two sequences by '\n",
      " 'maximizing the similarity score. Reference: Needleman, S. B., & Wunsch, C. '\n",
      " 'D. (1970). A general method applicable to the search for similarities in the '\n",
      " 'amino acid sequence of two proteins. Journal of Molecular Biology, 48(3), '\n",
      " '443-453.\\n'\n",
      " '\\n'\n",
      " '2. Smith-Waterman Algorithm: This algorithm is used for local sequence '\n",
      " 'alignment, which finds the most similar subsequences between two sequences. '\n",
      " 'Reference: Smith, T. F., & Waterman, M. S. (1981). Identification of common '\n",
      " 'molecular subsequences. Journal of Molecular Biology, 147(1), 195-197.\\n'\n",
      " '\\n'\n",
      " '3. BLAST (Basic Local Alignment Search Tool): This algorithm is used for '\n",
      " 'searching sequence databases for local alignments with a query sequence. '\n",
      " 'Reference: Altschul, S. F., Gish, W., Miller, W., Myers, E. W., & Lipman, D. '\n",
      " 'J. (1990). Basic local alignment search tool. Journal of Molecular Biology, '\n",
      " '215(3), 403-410.\\n'\n",
      " '\\n'\n",
      " '4. ClustalW: This algorithm is used for multiple sequence alignment, which '\n",
      " 'aligns multiple sequences simultaneously. Reference: Thompson, J. D., '\n",
      " 'Higgins, D. G., & Gibson, T. J. (1994). CLUSTAL W: improving the sensitivity '\n",
      " 'of progressive multiple sequence alignment through sequence weighting, '\n",
      " 'position-specific gap penalties and weight matrix choice. Nucleic Acids '\n",
      " 'Research, 22(22), 4673-4680.\\n'\n",
      " '\\n'\n",
      " '5. Hidden Markov Models (HMMs): These models are used for various tasks in '\n",
      " 'bioinformatics, such as gene prediction, protein family modeling, and '\n",
      " 'sequence alignment. Reference: Eddy, S. R. (2004). What is a hidden Markov '\n",
      " 'model? Nature Biotechnology, 22(10), 1315-1316.\\n'\n",
      " '\\n'\n",
      " '6. Fast Fourier Transform (FFT) based algorithms for sequence comparison: '\n",
      " 'These algorithms use FFT to speed up the process of sequence comparison. '\n",
      " 'Reference: Vinga, S., & Almeida, J. (2003). Alignment-free sequence '\n",
      " 'comparison-a review. Bioinformatics, 19(4), 513-523.\\n'\n",
      " '\\n'\n",
      " '7. Phylogenetic tree construction algorithms: These algorithms are used to '\n",
      " 'infer the evolutionary relationships between different species or genes. '\n",
      " 'Some popular methods include Neighbor-Joining, Maximum Likelihood, and '\n",
      " 'Bayesian Inference. Reference: Felsenstein, J. (2004). Inferring '\n",
      " 'Phylogenies. Sinauer Associates, Sunderland, MA.')\n"
     ]
    }
   ],
   "source": [
    "pp = pprint.PrettyPrinter(indent=4)\n",
    "pp.pprint(answer)"
   ]
  },
  {
   "cell_type": "code",
   "execution_count": 17,
   "metadata": {},
   "outputs": [
    {
     "data": {
      "text/plain": [
       "[HumanMessage(content='What are some famous algorithms in bioinformatics? give me references too.', additional_kwargs={}, example=False),\n",
       " AIMessage(content='Some famous algorithms in bioinformatics include:\\n\\n1. Needleman-Wunsch Algorithm: This algorithm is used for global sequence alignment, which finds the best alignment between two sequences by maximizing the similarity score. Reference: Needleman, S. B., & Wunsch, C. D. (1970). A general method applicable to the search for similarities in the amino acid sequence of two proteins. Journal of Molecular Biology, 48(3), 443-453.\\n\\n2. Smith-Waterman Algorithm: This algorithm is used for local sequence alignment, which finds the most similar subsequences between two sequences. Reference: Smith, T. F., & Waterman, M. S. (1981). Identification of common molecular subsequences. Journal of Molecular Biology, 147(1), 195-197.\\n\\n3. BLAST (Basic Local Alignment Search Tool): This algorithm is used for searching sequence databases for local alignments with a query sequence. Reference: Altschul, S. F., Gish, W., Miller, W., Myers, E. W., & Lipman, D. J. (1990). Basic local alignment search tool. Journal of Molecular Biology, 215(3), 403-410.\\n\\n4. ClustalW: This algorithm is used for multiple sequence alignment, which aligns multiple sequences simultaneously. Reference: Thompson, J. D., Higgins, D. G., & Gibson, T. J. (1994). CLUSTAL W: improving the sensitivity of progressive multiple sequence alignment through sequence weighting, position-specific gap penalties and weight matrix choice. Nucleic Acids Research, 22(22), 4673-4680.\\n\\n5. Hidden Markov Models (HMMs): These models are used for various tasks in bioinformatics, such as gene prediction, protein family modeling, and sequence alignment. Reference: Eddy, S. R. (2004). What is a hidden Markov model? Nature Biotechnology, 22(10), 1315-1316.\\n\\n6. Fast Fourier Transform (FFT) based algorithms for sequence comparison: These algorithms use FFT to speed up the process of sequence comparison. Reference: Vinga, S., & Almeida, J. (2003). Alignment-free sequence comparison-a review. Bioinformatics, 19(4), 513-523.\\n\\n7. Phylogenetic tree construction algorithms: These algorithms are used to infer the evolutionary relationships between different species or genes. Some popular methods include Neighbor-Joining, Maximum Likelihood, and Bayesian Inference. Reference: Felsenstein, J. (2004). Inferring Phylogenies. Sinauer Associates, Sunderland, MA.', additional_kwargs={}, example=False)]"
      ]
     },
     "execution_count": 17,
     "metadata": {},
     "output_type": "execute_result"
    }
   ],
   "source": [
    "# let's check if there is something in memory\n",
    "\n",
    "memory.chat_memory.messages"
   ]
  },
  {
   "cell_type": "code",
   "execution_count": 18,
   "metadata": {},
   "outputs": [
    {
     "name": "stdout",
     "output_type": "stream",
     "text": [
      "The second algorithm mentioned in the text is the Z-algorithm, which is a string matching algorithm that runs in linear time with respect to the length of the text. The Z-algorithm is used to find all occurrences of a pattern in a given text. It works by constructing an auxiliary array, called the Z-array, which stores the length of the longest common prefix between the pattern and the corresponding substring of the text.\n",
      "\n",
      "The Z-algorithm starts by concatenating the pattern and the text, separated by a special character (e.g., $) that does not appear in either the pattern or the text. Then, it computes the Z-array for this concatenated string. The Z-array is an array of integers, where the value at position i represents the length of the longest common prefix between the substring starting at position i and the concatenated string itself.\n",
      "\n",
      "The algorithm iterates through the concatenated string, calculating the Z-values for each position. When a Z-value is equal to the length of the pattern, it indicates that the pattern is present at that position in the text.\n",
      "\n",
      "In summary, the Z-algorithm is a simple and efficient string matching algorithm that can be used to search for a pattern in a text in linear time. It works by constructing an auxiliary Z-array, which stores the length of the longest common prefix between the pattern and the corresponding substring of the text, and then using this array to identify occurrences of the pattern in the text.('The second algorithm mentioned in the text is the Z-algorithm, which is a '\n",
      " 'string matching algorithm that runs in linear time with respect to the '\n",
      " 'length of the text. The Z-algorithm is used to find all occurrences of a '\n",
      " 'pattern in a given text. It works by constructing an auxiliary array, called '\n",
      " 'the Z-array, which stores the length of the longest common prefix between '\n",
      " 'the pattern and the corresponding substring of the text.\\n'\n",
      " '\\n'\n",
      " 'The Z-algorithm starts by concatenating the pattern and the text, separated '\n",
      " 'by a special character (e.g., $) that does not appear in either the pattern '\n",
      " 'or the text. Then, it computes the Z-array for this concatenated string. The '\n",
      " 'Z-array is an array of integers, where the value at position i represents '\n",
      " 'the length of the longest common prefix between the substring starting at '\n",
      " 'position i and the concatenated string itself.\\n'\n",
      " '\\n'\n",
      " 'The algorithm iterates through the concatenated string, calculating the '\n",
      " 'Z-values for each position. When a Z-value is equal to the length of the '\n",
      " 'pattern, it indicates that the pattern is present at that position in the '\n",
      " 'text.\\n'\n",
      " '\\n'\n",
      " 'In summary, the Z-algorithm is a simple and efficient string matching '\n",
      " 'algorithm that can be used to search for a pattern in a text in linear time. '\n",
      " 'It works by constructing an auxiliary Z-array, which stores the length of '\n",
      " 'the longest common prefix between the pattern and the corresponding '\n",
      " 'substring of the text, and then using this array to identify occurrences of '\n",
      " 'the pattern in the text.')\n"
     ]
    }
   ],
   "source": [
    "pp.pprint(chain.run('Would you please explain the 2nd algo'))"
   ]
  },
  {
   "cell_type": "code",
   "execution_count": 19,
   "metadata": {},
   "outputs": [
    {
     "data": {
      "text/plain": [
       "[HumanMessage(content='What are some famous algorithms in bioinformatics? give me references too.', additional_kwargs={}, example=False),\n",
       " AIMessage(content='Some famous algorithms in bioinformatics include:\\n\\n1. Needleman-Wunsch Algorithm: This algorithm is used for global sequence alignment, which finds the best alignment between two sequences by maximizing the similarity score. Reference: Needleman, S. B., & Wunsch, C. D. (1970). A general method applicable to the search for similarities in the amino acid sequence of two proteins. Journal of Molecular Biology, 48(3), 443-453.\\n\\n2. Smith-Waterman Algorithm: This algorithm is used for local sequence alignment, which finds the most similar subsequences between two sequences. Reference: Smith, T. F., & Waterman, M. S. (1981). Identification of common molecular subsequences. Journal of Molecular Biology, 147(1), 195-197.\\n\\n3. BLAST (Basic Local Alignment Search Tool): This algorithm is used for searching sequence databases for local alignments with a query sequence. Reference: Altschul, S. F., Gish, W., Miller, W., Myers, E. W., & Lipman, D. J. (1990). Basic local alignment search tool. Journal of Molecular Biology, 215(3), 403-410.\\n\\n4. ClustalW: This algorithm is used for multiple sequence alignment, which aligns multiple sequences simultaneously. Reference: Thompson, J. D., Higgins, D. G., & Gibson, T. J. (1994). CLUSTAL W: improving the sensitivity of progressive multiple sequence alignment through sequence weighting, position-specific gap penalties and weight matrix choice. Nucleic Acids Research, 22(22), 4673-4680.\\n\\n5. Hidden Markov Models (HMMs): These models are used for various tasks in bioinformatics, such as gene prediction, protein family modeling, and sequence alignment. Reference: Eddy, S. R. (2004). What is a hidden Markov model? Nature Biotechnology, 22(10), 1315-1316.\\n\\n6. Fast Fourier Transform (FFT) based algorithms for sequence comparison: These algorithms use FFT to speed up the process of sequence comparison. Reference: Vinga, S., & Almeida, J. (2003). Alignment-free sequence comparison-a review. Bioinformatics, 19(4), 513-523.\\n\\n7. Phylogenetic tree construction algorithms: These algorithms are used to infer the evolutionary relationships between different species or genes. Some popular methods include Neighbor-Joining, Maximum Likelihood, and Bayesian Inference. Reference: Felsenstein, J. (2004). Inferring Phylogenies. Sinauer Associates, Sunderland, MA.', additional_kwargs={}, example=False),\n",
       " HumanMessage(content='Would you please explain the 2nd algo', additional_kwargs={}, example=False),\n",
       " AIMessage(content='The second algorithm mentioned in the text is the Z-algorithm, which is a string matching algorithm that runs in linear time with respect to the length of the text. The Z-algorithm is used to find all occurrences of a pattern in a given text. It works by constructing an auxiliary array, called the Z-array, which stores the length of the longest common prefix between the pattern and the corresponding substring of the text.\\n\\nThe Z-algorithm starts by concatenating the pattern and the text, separated by a special character (e.g., $) that does not appear in either the pattern or the text. Then, it computes the Z-array for this concatenated string. The Z-array is an array of integers, where the value at position i represents the length of the longest common prefix between the substring starting at position i and the concatenated string itself.\\n\\nThe algorithm iterates through the concatenated string, calculating the Z-values for each position. When a Z-value is equal to the length of the pattern, it indicates that the pattern is present at that position in the text.\\n\\nIn summary, the Z-algorithm is a simple and efficient string matching algorithm that can be used to search for a pattern in a text in linear time. It works by constructing an auxiliary Z-array, which stores the length of the longest common prefix between the pattern and the corresponding substring of the text, and then using this array to identify occurrences of the pattern in the text.', additional_kwargs={}, example=False)]"
      ]
     },
     "execution_count": 19,
     "metadata": {},
     "output_type": "execute_result"
    }
   ],
   "source": [
    "# let's check if there is something in memory\n",
    "\n",
    "memory.chat_memory.messages"
   ]
  },
  {
   "cell_type": "code",
   "execution_count": 20,
   "metadata": {},
   "outputs": [
    {
     "name": "stdout",
     "output_type": "stream",
     "text": [
      "It is important in bioinformatics because bioinformatics is an interdisciplinary field that combines biology, computer science, mathematics, and statistics to analyze and interpret biological data, particularly genomic and molecular data. This field plays a crucial role in understanding the molecular mechanisms of living organisms, discovering new genes and their functions, identifying potential drug targets, and developing personalized medicine. By using computational tools and techniques, bioinformatics experts can efficiently analyze large-scale biological data, identify patterns and relationships, and make predictions that can help advance our understanding of various biological processes and diseases. Additionally, bioinformatics has become an essential component of modern biological research, as it enables researchers to manage, analyze, and interpret the vast amounts of data generated by high-throughput technologies such as next-generation sequencing, microarrays, and proteomics.('It is important in bioinformatics because bioinformatics is an '\n",
      " 'interdisciplinary field that combines biology, computer science, '\n",
      " 'mathematics, and statistics to analyze and interpret biological data, '\n",
      " 'particularly genomic and molecular data. This field plays a crucial role in '\n",
      " 'understanding the molecular mechanisms of living organisms, discovering new '\n",
      " 'genes and their functions, identifying potential drug targets, and '\n",
      " 'developing personalized medicine. By using computational tools and '\n",
      " 'techniques, bioinformatics experts can efficiently analyze large-scale '\n",
      " 'biological data, identify patterns and relationships, and make predictions '\n",
      " 'that can help advance our understanding of various biological processes and '\n",
      " 'diseases. Additionally, bioinformatics has become an essential component of '\n",
      " 'modern biological research, as it enables researchers to manage, analyze, '\n",
      " 'and interpret the vast amounts of data generated by high-throughput '\n",
      " 'technologies such as next-generation sequencing, microarrays, and '\n",
      " 'proteomics.')\n"
     ]
    }
   ],
   "source": [
    "pp.pprint(chain.run('why is it important in bioinformatics?'))"
   ]
  },
  {
   "cell_type": "markdown",
   "metadata": {},
   "source": [
    "**Chat history / remembering older conversations did not work with RetrievalQAChain. Let's Try 'ConversationalRetrievalChain' instead.**"
   ]
  },
  {
   "cell_type": "code",
   "execution_count": 21,
   "metadata": {},
   "outputs": [],
   "source": [
    "from langchain.chains import ConversationalRetrievalChain"
   ]
  },
  {
   "cell_type": "code",
   "execution_count": 22,
   "metadata": {},
   "outputs": [],
   "source": [
    "# build memory\n",
    "memory = ConversationBufferMemory(\n",
    "                                    memory_key=\"chat_history\",\n",
    "                                    max_len=50,\n",
    "                                    return_messages=True,\n",
    "                                )"
   ]
  },
  {
   "cell_type": "code",
   "execution_count": 23,
   "metadata": {},
   "outputs": [],
   "source": [
    "prompt_template = '''\n",
    "You are a Bioinformatics expert with immense knowledge and experience in the field. Your name is Dr. Fanni.\n",
    "Answer my questions based on your knowledge and our older conversation. Do not make up answers.\n",
    "If you do not know the answer to a question, just say \"I don't know\".\n",
    "\n",
    "Given the following conversation and a follow up question, answer the question.\n",
    "\n",
    "{chat_history}\n",
    "\n",
    "question: {question}\n",
    "'''\n",
    "\n",
    "PROMPT = PromptTemplate.from_template(\n",
    "            template=prompt_template\n",
    "        )"
   ]
  },
  {
   "cell_type": "code",
   "execution_count": 24,
   "metadata": {},
   "outputs": [],
   "source": [
    "chain = ConversationalRetrievalChain.from_llm(\n",
    "                                                chat_model,\n",
    "                                                retriever,\n",
    "                                                memory=memory,\n",
    "                                                condense_question_prompt=PROMPT\n",
    "                                            )"
   ]
  },
  {
   "cell_type": "code",
   "execution_count": 25,
   "metadata": {},
   "outputs": [],
   "source": [
    "q1 = 'What are some famous algorithms in bioinformatics? give me references too.'\n",
    "q2 = 'Would you please explain the 3rd algorithm mentioned.'\n",
    "q3 = 'What is its importance in bioinformatics?'\n"
   ]
  },
  {
   "cell_type": "code",
   "execution_count": 26,
   "metadata": {},
   "outputs": [
    {
     "name": "stdout",
     "output_type": "stream",
     "text": [
      "1. Needleman-Wunsch Algorithm: This algorithm is used for global sequence alignment, finding the best alignment between two sequences by maximizing the similarity score. It was introduced by Needleman and Wunsch in 1970.\n",
      "\n",
      "Reference: Needleman, S. B., & Wunsch, C. D. (1970). A general method applicable to the search for similarities in the amino acid sequence of two proteins. Journal of Molecular Biology, 48(3), 443-453.\n",
      "\n",
      "2. Smith-Waterman Algorithm: This algorithm is used for local sequence alignment, finding the most similar subsequences between two sequences. It was developed by Smith and Waterman in 1981.\n",
      "\n",
      "Reference: Smith, T. F., & Waterman, M. S. (1981). Identification of common molecular subsequences. Journal of Molecular Biology, 147(1), 195-197.\n",
      "\n",
      "3. BLAST (Basic Local Alignment Search Tool): BLAST is a widely used algorithm for searching sequence databases for similar sequences. It was developed by Altschul, Gish, Miller, Myers, and Lipman in 1990.\n",
      "\n",
      "Reference: Altschul, S. F., Gish, W., Miller, W., Myers, E. W., & Lipman, D. J. (1990). Basic local alignment search tool. Journal of Molecular Biology, 215(3), 403-410.\n",
      "\n",
      "4. FASTA: FASTA is another popular algorithm for searching sequence databases for similar sequences. It was developed by Lipman and Pearson in 1985.\n",
      "\n",
      "Reference: Lipman, D. J., & Pearson, W. R. (1985). Rapid and sensitive protein similarity searches. Science, 227(4693), 1435-1441.\n",
      "\n",
      "5. ClustalW: ClustalW is a widely used algorithm for multiple sequence alignment, aligning three or more sequences together. It was developed by Thompson, Higgins, and Gibson in 1994.\n",
      "\n",
      "Reference: Thompson, J. D., Higgins, D. G., & Gibson, T. J. (1994). CLUSTAL W: improving the sensitivity of progressive multiple sequence alignment through sequence weighting, position-specific gap penalties and weight matrix choice. Nucleic Acids Research, 22(22), 4673-4680.\n",
      "\n",
      "6. Hidden Markov Models (HMMs): HMMs are widely used in bioinformatics for various tasks, such as gene prediction, protein family modeling, and sequence alignment. The application of HMMs in bioinformatics was pioneered by Krogh, Brown, Mian, Sjölander, and Haussler in 1994.\n",
      "\n",
      "Reference: Krogh, A., Brown, M., Mian, I. S., Sjölander, K., & Haussler, D. (1994). Hidden Markov models in computational biology: Applications to protein modeling. Journal of Molecular Biology, 235(5), 1501-1531.{   'answer': '1. Needleman-Wunsch Algorithm: This algorithm is used for '\n",
      "              'global sequence alignment, finding the best alignment between '\n",
      "              'two sequences by maximizing the similarity score. It was '\n",
      "              'introduced by Needleman and Wunsch in 1970.\\n'\n",
      "              '\\n'\n",
      "              'Reference: Needleman, S. B., & Wunsch, C. D. (1970). A general '\n",
      "              'method applicable to the search for similarities in the amino '\n",
      "              'acid sequence of two proteins. Journal of Molecular Biology, '\n",
      "              '48(3), 443-453.\\n'\n",
      "              '\\n'\n",
      "              '2. Smith-Waterman Algorithm: This algorithm is used for local '\n",
      "              'sequence alignment, finding the most similar subsequences '\n",
      "              'between two sequences. It was developed by Smith and Waterman '\n",
      "              'in 1981.\\n'\n",
      "              '\\n'\n",
      "              'Reference: Smith, T. F., & Waterman, M. S. (1981). '\n",
      "              'Identification of common molecular subsequences. Journal of '\n",
      "              'Molecular Biology, 147(1), 195-197.\\n'\n",
      "              '\\n'\n",
      "              '3. BLAST (Basic Local Alignment Search Tool): BLAST is a widely '\n",
      "              'used algorithm for searching sequence databases for similar '\n",
      "              'sequences. It was developed by Altschul, Gish, Miller, Myers, '\n",
      "              'and Lipman in 1990.\\n'\n",
      "              '\\n'\n",
      "              'Reference: Altschul, S. F., Gish, W., Miller, W., Myers, E. W., '\n",
      "              '& Lipman, D. J. (1990). Basic local alignment search tool. '\n",
      "              'Journal of Molecular Biology, 215(3), 403-410.\\n'\n",
      "              '\\n'\n",
      "              '4. FASTA: FASTA is another popular algorithm for searching '\n",
      "              'sequence databases for similar sequences. It was developed by '\n",
      "              'Lipman and Pearson in 1985.\\n'\n",
      "              '\\n'\n",
      "              'Reference: Lipman, D. J., & Pearson, W. R. (1985). Rapid and '\n",
      "              'sensitive protein similarity searches. Science, 227(4693), '\n",
      "              '1435-1441.\\n'\n",
      "              '\\n'\n",
      "              '5. ClustalW: ClustalW is a widely used algorithm for multiple '\n",
      "              'sequence alignment, aligning three or more sequences together. '\n",
      "              'It was developed by Thompson, Higgins, and Gibson in 1994.\\n'\n",
      "              '\\n'\n",
      "              'Reference: Thompson, J. D., Higgins, D. G., & Gibson, T. J. '\n",
      "              '(1994). CLUSTAL W: improving the sensitivity of progressive '\n",
      "              'multiple sequence alignment through sequence weighting, '\n",
      "              'position-specific gap penalties and weight matrix choice. '\n",
      "              'Nucleic Acids Research, 22(22), 4673-4680.\\n'\n",
      "              '\\n'\n",
      "              '6. Hidden Markov Models (HMMs): HMMs are widely used in '\n",
      "              'bioinformatics for various tasks, such as gene prediction, '\n",
      "              'protein family modeling, and sequence alignment. The '\n",
      "              'application of HMMs in bioinformatics was pioneered by Krogh, '\n",
      "              'Brown, Mian, Sjölander, and Haussler in 1994.\\n'\n",
      "              '\\n'\n",
      "              'Reference: Krogh, A., Brown, M., Mian, I. S., Sjölander, K., & '\n",
      "              'Haussler, D. (1994). Hidden Markov models in computational '\n",
      "              'biology: Applications to protein modeling. Journal of Molecular '\n",
      "              'Biology, 235(5), 1501-1531.',\n",
      "    'chat_history': [   HumanMessage(content='What are some famous algorithms in bioinformatics? give me references too.', additional_kwargs={}, example=False),\n",
      "                        AIMessage(content='1. Needleman-Wunsch Algorithm: This algorithm is used for global sequence alignment, finding the best alignment between two sequences by maximizing the similarity score. It was introduced by Needleman and Wunsch in 1970.\\n\\nReference: Needleman, S. B., & Wunsch, C. D. (1970). A general method applicable to the search for similarities in the amino acid sequence of two proteins. Journal of Molecular Biology, 48(3), 443-453.\\n\\n2. Smith-Waterman Algorithm: This algorithm is used for local sequence alignment, finding the most similar subsequences between two sequences. It was developed by Smith and Waterman in 1981.\\n\\nReference: Smith, T. F., & Waterman, M. S. (1981). Identification of common molecular subsequences. Journal of Molecular Biology, 147(1), 195-197.\\n\\n3. BLAST (Basic Local Alignment Search Tool): BLAST is a widely used algorithm for searching sequence databases for similar sequences. It was developed by Altschul, Gish, Miller, Myers, and Lipman in 1990.\\n\\nReference: Altschul, S. F., Gish, W., Miller, W., Myers, E. W., & Lipman, D. J. (1990). Basic local alignment search tool. Journal of Molecular Biology, 215(3), 403-410.\\n\\n4. FASTA: FASTA is another popular algorithm for searching sequence databases for similar sequences. It was developed by Lipman and Pearson in 1985.\\n\\nReference: Lipman, D. J., & Pearson, W. R. (1985). Rapid and sensitive protein similarity searches. Science, 227(4693), 1435-1441.\\n\\n5. ClustalW: ClustalW is a widely used algorithm for multiple sequence alignment, aligning three or more sequences together. It was developed by Thompson, Higgins, and Gibson in 1994.\\n\\nReference: Thompson, J. D., Higgins, D. G., & Gibson, T. J. (1994). CLUSTAL W: improving the sensitivity of progressive multiple sequence alignment through sequence weighting, position-specific gap penalties and weight matrix choice. Nucleic Acids Research, 22(22), 4673-4680.\\n\\n6. Hidden Markov Models (HMMs): HMMs are widely used in bioinformatics for various tasks, such as gene prediction, protein family modeling, and sequence alignment. The application of HMMs in bioinformatics was pioneered by Krogh, Brown, Mian, Sjölander, and Haussler in 1994.\\n\\nReference: Krogh, A., Brown, M., Mian, I. S., Sjölander, K., & Haussler, D. (1994). Hidden Markov models in computational biology: Applications to protein modeling. Journal of Molecular Biology, 235(5), 1501-1531.', additional_kwargs={}, example=False)],\n",
      "    'question': 'What are some famous algorithms in bioinformatics? give me '\n",
      "                'references too.'}\n"
     ]
    }
   ],
   "source": [
    "pp.pprint(chain({'question': q1, 'chat_history': memory.chat_memory.messages}))"
   ]
  },
  {
   "cell_type": "code",
   "execution_count": 27,
   "metadata": {},
   "outputs": [
    {
     "name": "stdout",
     "output_type": "stream",
     "text": [
      "Certainly! The 3rd algorithm mentioned is BLAST, which stands for Basic Local Alignment Search Tool. BLAST is a widely used algorithm in bioinformatics for searching sequence databases to find similar sequences. It was developed by Altschul, Gish, Miller, Myers, and Lipman in 1990.\n",
      "\n",
      "BLAST works by comparing a query sequence (such as a DNA or protein sequence) to a database of known sequences. It identifies regions of similarity between the query sequence and sequences in the database, allowing researchers to find sequences that are evolutionarily related or share functional similarities. The algorithm is designed to be fast and efficient, making it suitable for searching large databases.\n",
      "\n",
      "BLAST uses a heuristic approach to speed up the search process. It first identifies short, highly conserved regions (called \"words\" or \"seeds\") between the query sequence and database sequences. Then, it extends these initial matches to find longer alignments with higher similarity scores. The algorithm calculates a statistical significance score for each alignment, which helps researchers determine the likelihood that the similarity is due to chance or true homology.\n",
      "\n",
      "Reference: Altschul, S. F., Gish, W., Miller, W., Myers, E. W., & Lipman, D. J. (1990). Basic local alignment search tool. Journal of Molecular Biology, 215(3), 403-410."
     ]
    },
    {
     "name": "stderr",
     "output_type": "stream",
     "text": [
      "Retrying langchain.chat_models.openai.ChatOpenAI.completion_with_retry.<locals>._completion_with_retry in 4.0 seconds as it raised APIError: The server had an error while processing your request. Sorry about that! {\n",
      "  \"error\": {\n",
      "    \"message\": \"The server had an error while processing your request. Sorry about that!\",\n",
      "    \"type\": \"server_error\",\n",
      "    \"param\": null,\n",
      "    \"code\": null\n",
      "  }\n",
      "}\n",
      " 500 {'error': {'message': 'The server had an error while processing your request. Sorry about that!', 'type': 'server_error', 'param': None, 'code': None}} {'Date': 'Tue, 17 Oct 2023 19:45:52 GMT', 'Content-Type': 'application/json', 'Content-Length': '176', 'Connection': 'keep-alive', 'access-control-allow-origin': '*', 'openai-model': 'gpt-4-0314', 'openai-organization': 'shwra', 'openai-processing-ms': '61', 'openai-version': '2020-10-01', 'strict-transport-security': 'max-age=15724800; includeSubDomains', 'x-ratelimit-limit-requests': '200', 'x-ratelimit-limit-tokens': '10000', 'x-ratelimit-remaining-requests': '199', 'x-ratelimit-remaining-tokens': '5744', 'x-ratelimit-reset-requests': '300ms', 'x-ratelimit-reset-tokens': '25.536s', 'x-request-id': 'bd762fbeb42992f43848d31dfefd29ad', 'CF-Cache-Status': 'DYNAMIC', 'Server': 'cloudflare', 'CF-RAY': '817b0b5bde57d1e4-MCT', 'alt-svc': 'h3=\":443\"; ma=86400'}.\n"
     ]
    },
    {
     "name": "stdout",
     "output_type": "stream",
     "text": [
      "In summary, BLAST is a popular algorithm used in bioinformatics for searching sequence databases to find similar sequences. It compares a query sequence to a database of known sequences and identifies regions of similarity, allowing researchers to find sequences that are evolutionarily related or share functional similarities. The algorithm is fast and efficient, making it suitable for searching large databases. BLAST uses a heuristic approach to speed up the search process by identifying short, highly conserved regions and extending these initial matches to find longer alignments with higher similarity scores.{   'answer': 'In summary, BLAST is a popular algorithm used in bioinformatics '\n",
      "              'for searching sequence databases to find similar sequences. It '\n",
      "              'compares a query sequence to a database of known sequences and '\n",
      "              'identifies regions of similarity, allowing researchers to find '\n",
      "              'sequences that are evolutionarily related or share functional '\n",
      "              'similarities. The algorithm is fast and efficient, making it '\n",
      "              'suitable for searching large databases. BLAST uses a heuristic '\n",
      "              'approach to speed up the search process by identifying short, '\n",
      "              'highly conserved regions and extending these initial matches to '\n",
      "              'find longer alignments with higher similarity scores.',\n",
      "    'chat_history': [   HumanMessage(content='What are some famous algorithms in bioinformatics? give me references too.', additional_kwargs={}, example=False),\n",
      "                        AIMessage(content='1. Needleman-Wunsch Algorithm: This algorithm is used for global sequence alignment, finding the best alignment between two sequences by maximizing the similarity score. It was introduced by Needleman and Wunsch in 1970.\\n\\nReference: Needleman, S. B., & Wunsch, C. D. (1970). A general method applicable to the search for similarities in the amino acid sequence of two proteins. Journal of Molecular Biology, 48(3), 443-453.\\n\\n2. Smith-Waterman Algorithm: This algorithm is used for local sequence alignment, finding the most similar subsequences between two sequences. It was developed by Smith and Waterman in 1981.\\n\\nReference: Smith, T. F., & Waterman, M. S. (1981). Identification of common molecular subsequences. Journal of Molecular Biology, 147(1), 195-197.\\n\\n3. BLAST (Basic Local Alignment Search Tool): BLAST is a widely used algorithm for searching sequence databases for similar sequences. It was developed by Altschul, Gish, Miller, Myers, and Lipman in 1990.\\n\\nReference: Altschul, S. F., Gish, W., Miller, W., Myers, E. W., & Lipman, D. J. (1990). Basic local alignment search tool. Journal of Molecular Biology, 215(3), 403-410.\\n\\n4. FASTA: FASTA is another popular algorithm for searching sequence databases for similar sequences. It was developed by Lipman and Pearson in 1985.\\n\\nReference: Lipman, D. J., & Pearson, W. R. (1985). Rapid and sensitive protein similarity searches. Science, 227(4693), 1435-1441.\\n\\n5. ClustalW: ClustalW is a widely used algorithm for multiple sequence alignment, aligning three or more sequences together. It was developed by Thompson, Higgins, and Gibson in 1994.\\n\\nReference: Thompson, J. D., Higgins, D. G., & Gibson, T. J. (1994). CLUSTAL W: improving the sensitivity of progressive multiple sequence alignment through sequence weighting, position-specific gap penalties and weight matrix choice. Nucleic Acids Research, 22(22), 4673-4680.\\n\\n6. Hidden Markov Models (HMMs): HMMs are widely used in bioinformatics for various tasks, such as gene prediction, protein family modeling, and sequence alignment. The application of HMMs in bioinformatics was pioneered by Krogh, Brown, Mian, Sjölander, and Haussler in 1994.\\n\\nReference: Krogh, A., Brown, M., Mian, I. S., Sjölander, K., & Haussler, D. (1994). Hidden Markov models in computational biology: Applications to protein modeling. Journal of Molecular Biology, 235(5), 1501-1531.', additional_kwargs={}, example=False),\n",
      "                        HumanMessage(content='Would you please explain the 3rd algorithm mentioned.', additional_kwargs={}, example=False),\n",
      "                        AIMessage(content='In summary, BLAST is a popular algorithm used in bioinformatics for searching sequence databases to find similar sequences. It compares a query sequence to a database of known sequences and identifies regions of similarity, allowing researchers to find sequences that are evolutionarily related or share functional similarities. The algorithm is fast and efficient, making it suitable for searching large databases. BLAST uses a heuristic approach to speed up the search process by identifying short, highly conserved regions and extending these initial matches to find longer alignments with higher similarity scores.', additional_kwargs={}, example=False)],\n",
      "    'question': 'Would you please explain the 3rd algorithm mentioned.'}\n"
     ]
    }
   ],
   "source": [
    "pp.pprint(chain({'question': q2, 'chat_history': memory.chat_memory.messages}))"
   ]
  },
  {
   "cell_type": "code",
   "execution_count": 28,
   "metadata": {},
   "outputs": [
    {
     "name": "stdout",
     "output_type": "stream",
     "text": [
      "BLAST's importance in bioinformatics lies in its ability to quickly and efficiently search large sequence databases for similar sequences. This is crucial for various applications, such as identifying homologous genes or proteins, annotating newly sequenced genomes, studying evolutionary relationships, and predicting protein functions based on sequence similarity. By finding sequences that are evolutionarily related or share functional similarities, researchers can gain insights into the biological roles and molecular mechanisms of genes and proteins. Overall, BLAST has become an indispensable tool in the field of bioinformatics due to its speed, accuracy, and wide range of applications.Additionally, BLAST incorporates statistical theory, allowing the direct computation of the significance of a match, which helps researchers determine whether a given local alignment might be due to chance alone. This feature is particularly important in assessing the significance of alignments in real-world applications, such as determining gene families in complex genomes.\n",
      "\n",
      "BLAST's heuristic algorithms, although not always guaranteeing the best alignment, have been extensively tested and shown to provide negligible errors compared to the significant time and memory savings they offer. This makes BLAST a practical and efficient choice for database searching and sequence comparison tasks in bioinformatics.{   'answer': 'Additionally, BLAST incorporates statistical theory, allowing '\n",
      "              'the direct computation of the significance of a match, which '\n",
      "              'helps researchers determine whether a given local alignment '\n",
      "              'might be due to chance alone. This feature is particularly '\n",
      "              'important in assessing the significance of alignments in '\n",
      "              'real-world applications, such as determining gene families in '\n",
      "              'complex genomes.\\n'\n",
      "              '\\n'\n",
      "              \"BLAST's heuristic algorithms, although not always guaranteeing \"\n",
      "              'the best alignment, have been extensively tested and shown to '\n",
      "              'provide negligible errors compared to the significant time and '\n",
      "              'memory savings they offer. This makes BLAST a practical and '\n",
      "              'efficient choice for database searching and sequence comparison '\n",
      "              'tasks in bioinformatics.',\n",
      "    'chat_history': [   HumanMessage(content='What are some famous algorithms in bioinformatics? give me references too.', additional_kwargs={}, example=False),\n",
      "                        AIMessage(content='1. Needleman-Wunsch Algorithm: This algorithm is used for global sequence alignment, finding the best alignment between two sequences by maximizing the similarity score. It was introduced by Needleman and Wunsch in 1970.\\n\\nReference: Needleman, S. B., & Wunsch, C. D. (1970). A general method applicable to the search for similarities in the amino acid sequence of two proteins. Journal of Molecular Biology, 48(3), 443-453.\\n\\n2. Smith-Waterman Algorithm: This algorithm is used for local sequence alignment, finding the most similar subsequences between two sequences. It was developed by Smith and Waterman in 1981.\\n\\nReference: Smith, T. F., & Waterman, M. S. (1981). Identification of common molecular subsequences. Journal of Molecular Biology, 147(1), 195-197.\\n\\n3. BLAST (Basic Local Alignment Search Tool): BLAST is a widely used algorithm for searching sequence databases for similar sequences. It was developed by Altschul, Gish, Miller, Myers, and Lipman in 1990.\\n\\nReference: Altschul, S. F., Gish, W., Miller, W., Myers, E. W., & Lipman, D. J. (1990). Basic local alignment search tool. Journal of Molecular Biology, 215(3), 403-410.\\n\\n4. FASTA: FASTA is another popular algorithm for searching sequence databases for similar sequences. It was developed by Lipman and Pearson in 1985.\\n\\nReference: Lipman, D. J., & Pearson, W. R. (1985). Rapid and sensitive protein similarity searches. Science, 227(4693), 1435-1441.\\n\\n5. ClustalW: ClustalW is a widely used algorithm for multiple sequence alignment, aligning three or more sequences together. It was developed by Thompson, Higgins, and Gibson in 1994.\\n\\nReference: Thompson, J. D., Higgins, D. G., & Gibson, T. J. (1994). CLUSTAL W: improving the sensitivity of progressive multiple sequence alignment through sequence weighting, position-specific gap penalties and weight matrix choice. Nucleic Acids Research, 22(22), 4673-4680.\\n\\n6. Hidden Markov Models (HMMs): HMMs are widely used in bioinformatics for various tasks, such as gene prediction, protein family modeling, and sequence alignment. The application of HMMs in bioinformatics was pioneered by Krogh, Brown, Mian, Sjölander, and Haussler in 1994.\\n\\nReference: Krogh, A., Brown, M., Mian, I. S., Sjölander, K., & Haussler, D. (1994). Hidden Markov models in computational biology: Applications to protein modeling. Journal of Molecular Biology, 235(5), 1501-1531.', additional_kwargs={}, example=False),\n",
      "                        HumanMessage(content='Would you please explain the 3rd algorithm mentioned.', additional_kwargs={}, example=False),\n",
      "                        AIMessage(content='In summary, BLAST is a popular algorithm used in bioinformatics for searching sequence databases to find similar sequences. It compares a query sequence to a database of known sequences and identifies regions of similarity, allowing researchers to find sequences that are evolutionarily related or share functional similarities. The algorithm is fast and efficient, making it suitable for searching large databases. BLAST uses a heuristic approach to speed up the search process by identifying short, highly conserved regions and extending these initial matches to find longer alignments with higher similarity scores.', additional_kwargs={}, example=False),\n",
      "                        HumanMessage(content='What is its importance in bioinformatics?', additional_kwargs={}, example=False),\n",
      "                        AIMessage(content=\"Additionally, BLAST incorporates statistical theory, allowing the direct computation of the significance of a match, which helps researchers determine whether a given local alignment might be due to chance alone. This feature is particularly important in assessing the significance of alignments in real-world applications, such as determining gene families in complex genomes.\\n\\nBLAST's heuristic algorithms, although not always guaranteeing the best alignment, have been extensively tested and shown to provide negligible errors compared to the significant time and memory savings they offer. This makes BLAST a practical and efficient choice for database searching and sequence comparison tasks in bioinformatics.\", additional_kwargs={}, example=False)],\n",
      "    'question': 'What is its importance in bioinformatics?'}\n"
     ]
    }
   ],
   "source": [
    "pp.pprint(chain({'question': q3, 'chat_history': memory.chat_memory.messages}))"
   ]
  },
  {
   "cell_type": "markdown",
   "metadata": {},
   "source": [
    "It worked by passing chat history as an argument to the prompt.\n",
    "\n",
    "Let's test the same apporach with 'RetrievalQAChain' as well."
   ]
  },
  {
   "cell_type": "markdown",
   "metadata": {},
   "source": [
    "### RetrievalQAChain with chat history"
   ]
  },
  {
   "cell_type": "code",
   "execution_count": 118,
   "metadata": {},
   "outputs": [],
   "source": [
    "prompt_template = '''\n",
    "You are a Bioinformatics expert with immense knowledge and experience in the field.\n",
    "Answer my questions based on your knowledge and our older conversation. Do not make up answers.\n",
    "If you do not know the answer to a question, just say \"I don't know\".\n",
    "\n",
    "{context}\n",
    "\n",
    "Given the following conversation and a follow up question, answer the question.\n",
    "\n",
    "{chat_history}\n",
    "\n",
    "question: {question}\n",
    "'''\n",
    "\n",
    "PROMPT = PromptTemplate(\n",
    "            template=prompt_template, input_variables=[\"context\", \"chat_history\", \"question\"]\n",
    "        )"
   ]
  },
  {
   "cell_type": "code",
   "execution_count": 119,
   "metadata": {},
   "outputs": [],
   "source": [
    "chain_type_kwargs = {\"prompt\": PROMPT}"
   ]
  },
  {
   "cell_type": "code",
   "execution_count": 120,
   "metadata": {},
   "outputs": [],
   "source": [
    "memory = ConversationBufferMemory(\n",
    "                                    memory_key=\"chat_history\",\n",
    "                                    max_len=50,\n",
    "                                    return_messages=True,\n",
    "                                )"
   ]
  },
  {
   "cell_type": "code",
   "execution_count": 128,
   "metadata": {},
   "outputs": [],
   "source": [
    "from langchain.chains.question_answering import load_qa_chain\n",
    "qa_chain = load_qa_chain(chat_model, chain_type=\"stuff\")\n"
   ]
  },
  {
   "cell_type": "code",
   "execution_count": 141,
   "metadata": {},
   "outputs": [],
   "source": [
    "from langchain.chains import RetrievalQAWithSourcesChain\n"
   ]
  },
  {
   "cell_type": "code",
   "execution_count": 146,
   "metadata": {},
   "outputs": [
    {
     "ename": "ValidationError",
     "evalue": "1 validation error for RetrievalQAWithSourcesChain\nprompt\n  extra fields not permitted (type=value_error.extra)",
     "output_type": "error",
     "traceback": [
      "\u001b[0;31m---------------------------------------------------------------------------\u001b[0m",
      "\u001b[0;31mValidationError\u001b[0m                           Traceback (most recent call last)",
      "\u001b[1;32m/home/irfan/Documents/langchain_chatbot/chatbot_with_knowledge_base_chromadb.ipynb Cell 41\u001b[0m line \u001b[0;36m1\n\u001b[0;32m----> <a href='vscode-notebook-cell:/home/irfan/Documents/langchain_chatbot/chatbot_with_knowledge_base_chromadb.ipynb#X54sZmlsZQ%3D%3D?line=0'>1</a>\u001b[0m chain \u001b[39m=\u001b[39m RetrievalQAWithSourcesChain(\n\u001b[1;32m      <a href='vscode-notebook-cell:/home/irfan/Documents/langchain_chatbot/chatbot_with_knowledge_base_chromadb.ipynb#X54sZmlsZQ%3D%3D?line=1'>2</a>\u001b[0m                         combine_documents_chain\u001b[39m=\u001b[39;49mqa_chain,\n\u001b[1;32m      <a href='vscode-notebook-cell:/home/irfan/Documents/langchain_chatbot/chatbot_with_knowledge_base_chromadb.ipynb#X54sZmlsZQ%3D%3D?line=2'>3</a>\u001b[0m                         retriever\u001b[39m=\u001b[39;49mretriever,\n\u001b[1;32m      <a href='vscode-notebook-cell:/home/irfan/Documents/langchain_chatbot/chatbot_with_knowledge_base_chromadb.ipynb#X54sZmlsZQ%3D%3D?line=3'>4</a>\u001b[0m                         memory\u001b[39m=\u001b[39;49mmemory,\n\u001b[1;32m      <a href='vscode-notebook-cell:/home/irfan/Documents/langchain_chatbot/chatbot_with_knowledge_base_chromadb.ipynb#X54sZmlsZQ%3D%3D?line=4'>5</a>\u001b[0m                         prompt\u001b[39m=\u001b[39;49mPROMPT,\n\u001b[1;32m      <a href='vscode-notebook-cell:/home/irfan/Documents/langchain_chatbot/chatbot_with_knowledge_base_chromadb.ipynb#X54sZmlsZQ%3D%3D?line=5'>6</a>\u001b[0m                         callbacks \u001b[39m=\u001b[39;49m [StreamingStdOutCallbackHandler()],\n\u001b[1;32m      <a href='vscode-notebook-cell:/home/irfan/Documents/langchain_chatbot/chatbot_with_knowledge_base_chromadb.ipynb#X54sZmlsZQ%3D%3D?line=6'>7</a>\u001b[0m                     )\n",
      "File \u001b[0;32m~/Documents/arabic_law_assistant/venv/lib/python3.9/site-packages/langchain/load/serializable.py:75\u001b[0m, in \u001b[0;36mSerializable.__init__\u001b[0;34m(self, **kwargs)\u001b[0m\n\u001b[1;32m     74\u001b[0m \u001b[39mdef\u001b[39;00m \u001b[39m__init__\u001b[39m(\u001b[39mself\u001b[39m, \u001b[39m*\u001b[39m\u001b[39m*\u001b[39mkwargs: Any) \u001b[39m-\u001b[39m\u001b[39m>\u001b[39m \u001b[39mNone\u001b[39;00m:\n\u001b[0;32m---> 75\u001b[0m     \u001b[39msuper\u001b[39;49m()\u001b[39m.\u001b[39;49m\u001b[39m__init__\u001b[39;49m(\u001b[39m*\u001b[39;49m\u001b[39m*\u001b[39;49mkwargs)\n\u001b[1;32m     76\u001b[0m     \u001b[39mself\u001b[39m\u001b[39m.\u001b[39m_lc_kwargs \u001b[39m=\u001b[39m kwargs\n",
      "File \u001b[0;32m~/Documents/arabic_law_assistant/venv/lib/python3.9/site-packages/pydantic/main.py:341\u001b[0m, in \u001b[0;36mpydantic.main.BaseModel.__init__\u001b[0;34m()\u001b[0m\n",
      "\u001b[0;31mValidationError\u001b[0m: 1 validation error for RetrievalQAWithSourcesChain\nprompt\n  extra fields not permitted (type=value_error.extra)"
     ]
    }
   ],
   "source": [
    "chain = RetrievalQAWithSourcesChain(\n",
    "                        combine_documents_chain=qa_chain,\n",
    "                        retriever=retriever,\n",
    "                        memory=memory,\n",
    "                        callbacks = [StreamingStdOutCallbackHandler()],\n",
    "                    )"
   ]
  },
  {
   "cell_type": "code",
   "execution_count": 145,
   "metadata": {},
   "outputs": [],
   "source": [
    "inputs = {\n",
    "    \"chat_history\": memory.chat_memory.messages, \n",
    "}"
   ]
  },
  {
   "cell_type": "code",
   "execution_count": 137,
   "metadata": {},
   "outputs": [
    {
     "name": "stdout",
     "output_type": "stream",
     "text": [
      "There are several famous algorithms in bioinformatics that have significantly contributed to the field. Here are a few notable ones along with their references:\n",
      "\n",
      "1. Needleman-Wunsch Algorithm: This algorithm is used for global sequence alignment of two sequences. It is based on dynamic programming and was one of the first algorithms developed for this purpose.\n",
      "Reference: Needleman, S. B., & Wunsch, C. D. (1970). A general method applicable to the search for similarities in the amino acid sequence of two proteins. Journal of Molecular Biology, 48(3), 443-453.\n",
      "\n",
      "2. Smith-Waterman Algorithm: This algorithm is used for local sequence alignment of two sequences. It is also based on dynamic programming and is an extension of the Needleman-Wunsch algorithm.\n",
      "Reference: Smith, T. F., & Waterman, M. S. (1981). Identification of common molecular subsequences. Journal of Molecular Biology, 147(1), 195-197.\n",
      "\n",
      "3. BLAST (Basic Local Alignment Search Tool): BLAST is a widely used algorithm for searching sequence databases to find local alignments between a query sequence and database sequences.\n",
      "Reference: Altschul, S. F., Gish, W., Miller, W., Myers, E. W., & Lipman, D. J. (1990). Basic local alignment search tool. Journal of Molecular Biology, 215(3), 403-410.\n",
      "\n",
      "4. ClustalW: ClustalW is a widely used algorithm for multiple sequence alignment of DNA or protein sequences.\n",
      "Reference: Thompson, J. D., Higgins, D. G., & Gibson, T. J. (1994). CLUSTAL W: improving the sensitivity of progressive multiple sequence alignment through sequence weighting, position-specific gap penalties and weight matrix choice. Nucleic Acids Research, 22(22), 4673-4680.\n",
      "\n",
      "5. Hidden Markov Models (HMMs): HMMs are widely used in bioinformatics for various tasks, including sequence alignment, gene prediction, and protein family modeling.\n",
      "Reference: Eddy, S. R. (2004). What is a hidden Markov model? Nature Biotechnology, 22(10), 1315-1316.\n",
      "\n",
      "6. Fast Fourier Transform (FFT) for sequence comparison: FFT is a technique used for efficient sequence comparison and alignment, particularly in the context of large-scale genomic data.\n",
      "Reference: Vinga, S., & Almeida, J. (2003). Alignment-free sequence comparison-a review. Bioinformatics, 19(4), 513-523.{   'chat_history': [   HumanMessage(content='What are some famous algorithms in bioinformatics? give me references too.', additional_kwargs={}, example=False),\n",
      "                        AIMessage(content='There are several famous algorithms in bioinformatics that have significantly contributed to the field. Here are a few notable ones along with their references:\\n\\n1. Needleman-Wunsch Algorithm: This algorithm is used for global sequence alignment of two sequences. It is based on dynamic programming and was one of the first algorithms developed for this purpose.\\nReference: Needleman, S. B., & Wunsch, C. D. (1970). A general method applicable to the search for similarities in the amino acid sequence of two proteins. Journal of Molecular Biology, 48(3), 443-453.\\n\\n2. Smith-Waterman Algorithm: This algorithm is used for local sequence alignment of two sequences. It is also based on dynamic programming and is an extension of the Needleman-Wunsch algorithm.\\nReference: Smith, T. F., & Waterman, M. S. (1981). Identification of common molecular subsequences. Journal of Molecular Biology, 147(1), 195-197.\\n\\n3. BLAST (Basic Local Alignment Search Tool): BLAST is a widely used algorithm for searching sequence databases to find local alignments between a query sequence and database sequences.\\nReference: Altschul, S. F., Gish, W., Miller, W., Myers, E. W., & Lipman, D. J. (1990). Basic local alignment search tool. Journal of Molecular Biology, 215(3), 403-410.\\n\\n4. ClustalW: ClustalW is a widely used algorithm for multiple sequence alignment of DNA or protein sequences.\\nReference: Thompson, J. D., Higgins, D. G., & Gibson, T. J. (1994). CLUSTAL W: improving the sensitivity of progressive multiple sequence alignment through sequence weighting, position-specific gap penalties and weight matrix choice. Nucleic Acids Research, 22(22), 4673-4680.\\n\\n5. Hidden Markov Models (HMMs): HMMs are widely used in bioinformatics for various tasks, including sequence alignment, gene prediction, and protein family modeling.\\nReference: Eddy, S. R. (2004). What is a hidden Markov model? Nature Biotechnology, 22(10), 1315-1316.\\n\\n6. Fast Fourier Transform (FFT) for sequence comparison: FFT is a technique used for efficient sequence comparison and alignment, particularly in the context of large-scale genomic data.\\nReference: Vinga, S., & Almeida, J. (2003). Alignment-free sequence comparison-a review. Bioinformatics, 19(4), 513-523.', additional_kwargs={}, example=False)],\n",
      "    'query': 'What are some famous algorithms in bioinformatics? give me '\n",
      "             'references too.',\n",
      "    'result': 'There are several famous algorithms in bioinformatics that have '\n",
      "              'significantly contributed to the field. Here are a few notable '\n",
      "              'ones along with their references:\\n'\n",
      "              '\\n'\n",
      "              '1. Needleman-Wunsch Algorithm: This algorithm is used for '\n",
      "              'global sequence alignment of two sequences. It is based on '\n",
      "              'dynamic programming and was one of the first algorithms '\n",
      "              'developed for this purpose.\\n'\n",
      "              'Reference: Needleman, S. B., & Wunsch, C. D. (1970). A general '\n",
      "              'method applicable to the search for similarities in the amino '\n",
      "              'acid sequence of two proteins. Journal of Molecular Biology, '\n",
      "              '48(3), 443-453.\\n'\n",
      "              '\\n'\n",
      "              '2. Smith-Waterman Algorithm: This algorithm is used for local '\n",
      "              'sequence alignment of two sequences. It is also based on '\n",
      "              'dynamic programming and is an extension of the Needleman-Wunsch '\n",
      "              'algorithm.\\n'\n",
      "              'Reference: Smith, T. F., & Waterman, M. S. (1981). '\n",
      "              'Identification of common molecular subsequences. Journal of '\n",
      "              'Molecular Biology, 147(1), 195-197.\\n'\n",
      "              '\\n'\n",
      "              '3. BLAST (Basic Local Alignment Search Tool): BLAST is a widely '\n",
      "              'used algorithm for searching sequence databases to find local '\n",
      "              'alignments between a query sequence and database sequences.\\n'\n",
      "              'Reference: Altschul, S. F., Gish, W., Miller, W., Myers, E. W., '\n",
      "              '& Lipman, D. J. (1990). Basic local alignment search tool. '\n",
      "              'Journal of Molecular Biology, 215(3), 403-410.\\n'\n",
      "              '\\n'\n",
      "              '4. ClustalW: ClustalW is a widely used algorithm for multiple '\n",
      "              'sequence alignment of DNA or protein sequences.\\n'\n",
      "              'Reference: Thompson, J. D., Higgins, D. G., & Gibson, T. J. '\n",
      "              '(1994). CLUSTAL W: improving the sensitivity of progressive '\n",
      "              'multiple sequence alignment through sequence weighting, '\n",
      "              'position-specific gap penalties and weight matrix choice. '\n",
      "              'Nucleic Acids Research, 22(22), 4673-4680.\\n'\n",
      "              '\\n'\n",
      "              '5. Hidden Markov Models (HMMs): HMMs are widely used in '\n",
      "              'bioinformatics for various tasks, including sequence alignment, '\n",
      "              'gene prediction, and protein family modeling.\\n'\n",
      "              'Reference: Eddy, S. R. (2004). What is a hidden Markov model? '\n",
      "              'Nature Biotechnology, 22(10), 1315-1316.\\n'\n",
      "              '\\n'\n",
      "              '6. Fast Fourier Transform (FFT) for sequence comparison: FFT is '\n",
      "              'a technique used for efficient sequence comparison and '\n",
      "              'alignment, particularly in the context of large-scale genomic '\n",
      "              'data.\\n'\n",
      "              'Reference: Vinga, S., & Almeida, J. (2003). Alignment-free '\n",
      "              'sequence comparison-a review. Bioinformatics, 19(4), 513-523.'}\n"
     ]
    }
   ],
   "source": [
    "inputs['query'] = q1\n",
    "pp.pprint(chain(inputs))"
   ]
  },
  {
   "cell_type": "code",
   "execution_count": 140,
   "metadata": {},
   "outputs": [
    {
     "name": "stdout",
     "output_type": "stream",
     "text": [
      "The third algorithm mentioned in the text is the Suffix Tree algorithm, which is a data structure for indexing a text. Suffix trees are used for efficient string matching and searching operations in computational biology and computer science.\n",
      "\n",
      "Once the suffix tree is built for a given text, it has a remarkable property: a text can be searched for a pattern in time proportional to the length of the pattern, rather than the length of the text. Building the suffix tree itself takes time proportional to the length of the text, but the factor of proportionality is relatively large.\n",
      "\n",
      "In the context of computational biology, suffix trees are useful for searching sequence patterns in molecular genetic data more efficiently than other string matching algorithms. This is particularly helpful when the text is stable and needs to be searched repeatedly, as it allows for faster search times and more efficient use of computational resources.{   'chat_history': [   HumanMessage(content='What are some famous algorithms in bioinformatics? give me references too.', additional_kwargs={}, example=False),\n",
      "                        AIMessage(content='There are several famous algorithms in bioinformatics that have significantly contributed to the field. Here are a few notable ones along with their references:\\n\\n1. Needleman-Wunsch Algorithm: This algorithm is used for global sequence alignment of two sequences. It is based on dynamic programming and was one of the first algorithms developed for this purpose.\\nReference: Needleman, S. B., & Wunsch, C. D. (1970). A general method applicable to the search for similarities in the amino acid sequence of two proteins. Journal of Molecular Biology, 48(3), 443-453.\\n\\n2. Smith-Waterman Algorithm: This algorithm is used for local sequence alignment of two sequences. It is also based on dynamic programming and is an extension of the Needleman-Wunsch algorithm.\\nReference: Smith, T. F., & Waterman, M. S. (1981). Identification of common molecular subsequences. Journal of Molecular Biology, 147(1), 195-197.\\n\\n3. BLAST (Basic Local Alignment Search Tool): BLAST is a widely used algorithm for searching sequence databases to find local alignments between a query sequence and database sequences.\\nReference: Altschul, S. F., Gish, W., Miller, W., Myers, E. W., & Lipman, D. J. (1990). Basic local alignment search tool. Journal of Molecular Biology, 215(3), 403-410.\\n\\n4. ClustalW: ClustalW is a widely used algorithm for multiple sequence alignment of DNA or protein sequences.\\nReference: Thompson, J. D., Higgins, D. G., & Gibson, T. J. (1994). CLUSTAL W: improving the sensitivity of progressive multiple sequence alignment through sequence weighting, position-specific gap penalties and weight matrix choice. Nucleic Acids Research, 22(22), 4673-4680.\\n\\n5. Hidden Markov Models (HMMs): HMMs are widely used in bioinformatics for various tasks, including sequence alignment, gene prediction, and protein family modeling.\\nReference: Eddy, S. R. (2004). What is a hidden Markov model? Nature Biotechnology, 22(10), 1315-1316.\\n\\n6. Fast Fourier Transform (FFT) for sequence comparison: FFT is a technique used for efficient sequence comparison and alignment, particularly in the context of large-scale genomic data.\\nReference: Vinga, S., & Almeida, J. (2003). Alignment-free sequence comparison-a review. Bioinformatics, 19(4), 513-523.', additional_kwargs={}, example=False),\n",
      "                        HumanMessage(content='Would you please explain the 3rd algorithm mentioned.', additional_kwargs={}, example=False),\n",
      "                        AIMessage(content='The third algorithm mentioned in the text is the Suffix Tree algorithm, which is a data structure for indexing a text. Suffix trees are useful for improving search efficiency in cases where the text is stable and needs to be searched repeatedly. Once the suffix tree is built, the text can be searched for a pattern in time proportional to the length of the pattern, rather than in time proportional to the length of the text.\\n\\nIn the context of computational biology and sequence analysis, suffix trees can help find patterns or matches within genetic sequences more efficiently. Building the suffix tree itself takes time proportional to the length of the text, but the factor of proportionality is relatively large.\\n\\nTo summarize, the Suffix Tree algorithm is an efficient method for string matching and searching in computational biology, allowing for faster searches in large genetic sequences once the data structure is built.', additional_kwargs={}, example=False),\n",
      "                        HumanMessage(content='Would you please explain the 3rd algorithm mentioned.', additional_kwargs={}, example=False),\n",
      "                        AIMessage(content='The third algorithm mentioned in the text is the Suffix Tree algorithm, which is a data structure for indexing a text. Suffix trees are used for efficient string matching and searching operations in computational biology and computer science.\\n\\nOnce the suffix tree is built for a given text, it has a remarkable property: a text can be searched for a pattern in time proportional to the length of the pattern, rather than the length of the text. Building the suffix tree itself takes time proportional to the length of the text, but the factor of proportionality is relatively large.\\n\\nIn the context of computational biology, suffix trees are useful for searching sequence patterns in molecular genetic data more efficiently than other string matching algorithms. This is particularly helpful when the text is stable and needs to be searched repeatedly, as it allows for faster search times and more efficient use of computational resources.', additional_kwargs={}, example=False)],\n",
      "    'query': 'Would you please explain the 3rd algorithm mentioned.',\n",
      "    'result': 'The third algorithm mentioned in the text is the Suffix Tree '\n",
      "              'algorithm, which is a data structure for indexing a text. '\n",
      "              'Suffix trees are used for efficient string matching and '\n",
      "              'searching operations in computational biology and computer '\n",
      "              'science.\\n'\n",
      "              '\\n'\n",
      "              'Once the suffix tree is built for a given text, it has a '\n",
      "              'remarkable property: a text can be searched for a pattern in '\n",
      "              'time proportional to the length of the pattern, rather than the '\n",
      "              'length of the text. Building the suffix tree itself takes time '\n",
      "              'proportional to the length of the text, but the factor of '\n",
      "              'proportionality is relatively large.\\n'\n",
      "              '\\n'\n",
      "              'In the context of computational biology, suffix trees are '\n",
      "              'useful for searching sequence patterns in molecular genetic '\n",
      "              'data more efficiently than other string matching algorithms. '\n",
      "              'This is particularly helpful when the text is stable and needs '\n",
      "              'to be searched repeatedly, as it allows for faster search times '\n",
      "              'and more efficient use of computational resources.'}\n"
     ]
    }
   ],
   "source": [
    "inputs['query'] = q2\n",
    "pp.pprint(chain(inputs))"
   ]
  },
  {
   "cell_type": "code",
   "execution_count": null,
   "metadata": {},
   "outputs": [],
   "source": []
  }
 ],
 "metadata": {
  "kernelspec": {
   "display_name": "venv",
   "language": "python",
   "name": "python3"
  },
  "language_info": {
   "codemirror_mode": {
    "name": "ipython",
    "version": 3
   },
   "file_extension": ".py",
   "mimetype": "text/x-python",
   "name": "python",
   "nbconvert_exporter": "python",
   "pygments_lexer": "ipython3",
   "version": "3.9.7"
  },
  "orig_nbformat": 4
 },
 "nbformat": 4,
 "nbformat_minor": 2
}
